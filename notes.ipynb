{
 "cells": [
  {
   "cell_type": "code",
   "execution_count": null,
   "metadata": {},
   "outputs": [],
   "source": [
    "Primary Key\n",
    "Use The Where Clause\n",
    "Update Records\n",
    "Delete Records\n",
    "Order Results\n",
    "And/Or\n",
    "Limiting Results\n",
    "Delete (Drop) A Table And Backups\n",
    "Unit 18 Our App - Show All Function\n",
    "Unit 19 Our App - Add A Record Function\n",
    "Unit 20 Our App - Delete a Record Function\n",
    "Unit 21 Our App - Add Many Records Function\n",
    "Unit 22 Our App - Where Clause Function"
   ]
  },
  {
   "cell_type": "markdown",
   "metadata": {},
   "source": [
    "Terminal file"
   ]
  },
  {
   "cell_type": "code",
   "execution_count": null,
   "metadata": {},
   "outputs": [],
   "source": [
    "#this checks the currect directory in the terminal\n",
    "pwd"
   ]
  },
  {
   "cell_type": "code",
   "execution_count": null,
   "metadata": {},
   "outputs": [],
   "source": [
    "#this allows to move in or out in afolde\n",
    "cd"
   ]
  },
  {
   "cell_type": "code",
   "execution_count": null,
   "metadata": {},
   "outputs": [],
   "source": [
    "#to connect the database, we need to run this code\n",
    "python database.py\n"
   ]
  },
  {
   "cell_type": "code",
   "execution_count": null,
   "metadata": {},
   "outputs": [],
   "source": []
  }
 ],
 "metadata": {
  "language_info": {
   "name": "python"
  },
  "orig_nbformat": 4
 },
 "nbformat": 4,
 "nbformat_minor": 2
}
